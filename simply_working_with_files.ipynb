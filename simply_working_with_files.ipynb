{
 "cells": [
  {
   "cell_type": "code",
   "execution_count": 1,
   "metadata": {},
   "outputs": [],
   "source": [
    "import requests\n",
    "import os"
   ]
  },
  {
   "cell_type": "code",
   "execution_count": 2,
   "metadata": {},
   "outputs": [
    {
     "data": {
      "text/plain": [
       "'frequency.py'"
      ]
     },
     "execution_count": 2,
     "metadata": {},
     "output_type": "execute_result"
    }
   ],
   "source": [
    "my_folder = 'ebert_reviews'\n",
    "\n",
    "if not os.path.exists(my_folder):\n",
    "    os.makedirs(my_folder)\n",
    "\n",
    "url = 'https://github.com/CameronLonsdale/lantern/blob/master/lantern/analysis/frequency.py'\n",
    "response = requests.get(url) \n",
    "\n",
    "# extract the file name from the last element of the url\n",
    "my_file = url.split('/')[-1]\n",
    "my_file"
   ]
  },
  {
   "cell_type": "markdown",
   "metadata": {},
   "source": [
    "**Download one file programmatically:**"
   ]
  },
  {
   "cell_type": "code",
   "execution_count": 3,
   "metadata": {},
   "outputs": [],
   "source": [
    "#write bunary mode as response.contents is in binary\n",
    "with open(os.path.join(my_folder,my_file),mode='wb') as file:\n",
    "    file.write(response.content)"
   ]
  },
  {
   "cell_type": "markdown",
   "metadata": {},
   "source": [
    "Check the content of my_folder"
   ]
  },
  {
   "cell_type": "code",
   "execution_count": 4,
   "metadata": {},
   "outputs": [
    {
     "data": {
      "text/plain": [
       "['frequency.py']"
      ]
     },
     "execution_count": 4,
     "metadata": {},
     "output_type": "execute_result"
    }
   ],
   "source": [
    "os.listdir(my_folder)\n",
    "#some are previously added ;)"
   ]
  },
  {
   "cell_type": "markdown",
   "metadata": {},
   "source": [
    "**Download multiple file programmatically with loop:**"
   ]
  },
  {
   "cell_type": "code",
   "execution_count": 5,
   "metadata": {},
   "outputs": [],
   "source": [
    "ebert_review_urls = ['https://d17h27t6h515a5.cloudfront.net/topher/2017/September/59ad9900_1-the-wizard-of-oz-1939-film/1-the-wizard-of-oz-1939-film.txt',\n",
    "                     'https://d17h27t6h515a5.cloudfront.net/topher/2017/September/59ad9901_2-citizen-kane/2-citizen-kane.txt',\n",
    "                     'https://d17h27t6h515a5.cloudfront.net/topher/2017/September/59ad9901_3-the-third-man/3-the-third-man.txt',\n",
    "                     'https://d17h27t6h515a5.cloudfront.net/topher/2017/September/59ad9902_4-get-out-film/4-get-out-film.txt',\n",
    "                     'https://d17h27t6h515a5.cloudfront.net/topher/2017/September/59ad9902_5-mad-max-fury-road/5-mad-max-fury-road.txt',\n",
    "                     'https://d17h27t6h515a5.cloudfront.net/topher/2017/September/59ad9902_6-the-cabinet-of-dr.-caligari/6-the-cabinet-of-dr.-caligari.txt',\n",
    "                     'https://d17h27t6h515a5.cloudfront.net/topher/2017/September/59ad9903_7-all-about-eve/7-all-about-eve.txt',\n",
    "                     'https://d17h27t6h515a5.cloudfront.net/topher/2017/September/59ad9903_8-inside-out-2015-film/8-inside-out-2015-film.txt',\n",
    "                     'https://d17h27t6h515a5.cloudfront.net/topher/2017/September/59ad9903_9-the-godfather/9-the-godfather.txt',\n",
    "                     'https://d17h27t6h515a5.cloudfront.net/topher/2017/September/59ad9904_10-metropolis-1927-film/10-metropolis-1927-film.txt',\n",
    "                     'https://d17h27t6h515a5.cloudfront.net/topher/2017/September/59ad9904_11-e.t.-the-extra-terrestrial/11-e.t.-the-extra-terrestrial.txt',\n",
    "                     'https://d17h27t6h515a5.cloudfront.net/topher/2017/September/59ad9904_12-modern-times-film/12-modern-times-film.txt',\n",
    "                     'https://d17h27t6h515a5.cloudfront.net/topher/2017/September/59ad9904_14-singin-in-the-rain/14-singin-in-the-rain.txt',\n",
    "                     'https://d17h27t6h515a5.cloudfront.net/topher/2017/September/59ad9905_15-boyhood-film/15-boyhood-film.txt',\n",
    "                     'https://d17h27t6h515a5.cloudfront.net/topher/2017/September/59ad9905_16-casablanca-film/16-casablanca-film.txt',\n",
    "                     'https://d17h27t6h515a5.cloudfront.net/topher/2017/September/59ad9905_17-moonlight-2016-film/17-moonlight-2016-film.txt',\n",
    "                     'https://d17h27t6h515a5.cloudfront.net/topher/2017/September/59ad9906_18-psycho-1960-film/18-psycho-1960-film.txt',\n",
    "                     'https://d17h27t6h515a5.cloudfront.net/topher/2017/September/59ad9906_19-laura-1944-film/19-laura-1944-film.txt',\n",
    "                     'https://d17h27t6h515a5.cloudfront.net/topher/2017/September/59ad9906_20-nosferatu/20-nosferatu.txt',\n",
    "                     'https://d17h27t6h515a5.cloudfront.net/topher/2017/September/59ad9907_21-snow-white-and-the-seven-dwarfs-1937-film/21-snow-white-and-the-seven-dwarfs-1937-film.txt',\n",
    "                     'https://d17h27t6h515a5.cloudfront.net/topher/2017/September/59ad9907_22-a-hard-day27s-night-film/22-a-hard-day27s-night-film.txt',\n",
    "                     'https://d17h27t6h515a5.cloudfront.net/topher/2017/September/59ad9907_23-la-grande-illusion/23-la-grande-illusion.txt',\n",
    "                     'https://d17h27t6h515a5.cloudfront.net/topher/2017/September/59ad9908_25-the-battle-of-algiers/25-the-battle-of-algiers.txt',\n",
    "                     'https://d17h27t6h515a5.cloudfront.net/topher/2017/September/59ad9908_26-dunkirk-2017-film/26-dunkirk-2017-film.txt',\n",
    "                     'https://d17h27t6h515a5.cloudfront.net/topher/2017/September/59ad9908_27-the-maltese-falcon-1941-film/27-the-maltese-falcon-1941-film.txt',\n",
    "                     'https://d17h27t6h515a5.cloudfront.net/topher/2017/September/59ad9909_29-12-years-a-slave-film/29-12-years-a-slave-film.txt',\n",
    "                     'https://d17h27t6h515a5.cloudfront.net/topher/2017/September/59ad9909_30-gravity-2013-film/30-gravity-2013-film.txt',\n",
    "                     'https://d17h27t6h515a5.cloudfront.net/topher/2017/September/59ad9909_31-sunset-boulevard-film/31-sunset-boulevard-film.txt',\n",
    "                     'https://d17h27t6h515a5.cloudfront.net/topher/2017/September/59ad990a_32-king-kong-1933-film/32-king-kong-1933-film.txt',\n",
    "                     'https://d17h27t6h515a5.cloudfront.net/topher/2017/September/59ad990a_33-spotlight-film/33-spotlight-film.txt',\n",
    "                     'https://d17h27t6h515a5.cloudfront.net/topher/2017/September/59ad990a_34-the-adventures-of-robin-hood/34-the-adventures-of-robin-hood.txt',\n",
    "                     'https://d17h27t6h515a5.cloudfront.net/topher/2017/September/59ad990b_35-rashomon/35-rashomon.txt',\n",
    "                     'https://d17h27t6h515a5.cloudfront.net/topher/2017/September/59ad990b_36-rear-window/36-rear-window.txt',\n",
    "                     'https://d17h27t6h515a5.cloudfront.net/topher/2017/September/59ad990b_37-selma-film/37-selma-film.txt',\n",
    "                     'https://d17h27t6h515a5.cloudfront.net/topher/2017/September/59ad990c_38-taxi-driver/38-taxi-driver.txt',\n",
    "                     'https://d17h27t6h515a5.cloudfront.net/topher/2017/September/59ad990c_39-toy-story-3/39-toy-story-3.txt',\n",
    "                     'https://d17h27t6h515a5.cloudfront.net/topher/2017/September/59ad990c_40-argo-2012-film/40-argo-2012-film.txt',\n",
    "                     'https://d17h27t6h515a5.cloudfront.net/topher/2017/September/59ad990d_41-toy-story-2/41-toy-story-2.txt',\n",
    "                     'https://d17h27t6h515a5.cloudfront.net/topher/2017/September/59ad990d_42-the-big-sick/42-the-big-sick.txt',\n",
    "                     'https://d17h27t6h515a5.cloudfront.net/topher/2017/September/59ad990d_43-bride-of-frankenstein/43-bride-of-frankenstein.txt',\n",
    "                     'https://d17h27t6h515a5.cloudfront.net/topher/2017/September/59ad990d_44-zootopia/44-zootopia.txt',\n",
    "                     'https://d17h27t6h515a5.cloudfront.net/topher/2017/September/59ad990e_45-m-1931-film/45-m-1931-film.txt',\n",
    "                     'https://d17h27t6h515a5.cloudfront.net/topher/2017/September/59ad990e_46-wonder-woman-2017-film/46-wonder-woman-2017-film.txt',\n",
    "                     'https://d17h27t6h515a5.cloudfront.net/topher/2017/September/59ad990e_48-alien-film/48-alien-film.txt',\n",
    "                     'https://d17h27t6h515a5.cloudfront.net/topher/2017/September/59ad990f_49-bicycle-thieves/49-bicycle-thieves.txt',\n",
    "                     'https://d17h27t6h515a5.cloudfront.net/topher/2017/September/59ad990f_50-seven-samurai/50-seven-samurai.txt',\n",
    "                     'https://d17h27t6h515a5.cloudfront.net/topher/2017/September/59ad990f_51-the-treasure-of-the-sierra-madre-film/51-the-treasure-of-the-sierra-madre-film.txt',\n",
    "                     'https://d17h27t6h515a5.cloudfront.net/topher/2017/September/59ad9910_52-up-2009-film/52-up-2009-film.txt',\n",
    "                     'https://d17h27t6h515a5.cloudfront.net/topher/2017/September/59ad9910_53-12-angry-men-1957-film/53-12-angry-men-1957-film.txt',\n",
    "                     'https://d17h27t6h515a5.cloudfront.net/topher/2017/September/59ad9910_54-the-400-blows/54-the-400-blows.txt',\n",
    "                     'https://d17h27t6h515a5.cloudfront.net/topher/2017/September/59ad9911_55-logan-film/55-logan-film.txt',\n",
    "                     'https://d17h27t6h515a5.cloudfront.net/topher/2017/September/59ad9911_57-army-of-shadows/57-army-of-shadows.txt',\n",
    "                     'https://d17h27t6h515a5.cloudfront.net/topher/2017/September/59ad9912_58-arrival-film/58-arrival-film.txt',\n",
    "                     'https://d17h27t6h515a5.cloudfront.net/topher/2017/September/59ad9912_59-baby-driver/59-baby-driver.txt',\n",
    "                     'https://d17h27t6h515a5.cloudfront.net/topher/2017/September/59ad9913_60-a-streetcar-named-desire-1951-film/60-a-streetcar-named-desire-1951-film.txt',\n",
    "                     'https://d17h27t6h515a5.cloudfront.net/topher/2017/September/59ad9913_61-the-night-of-the-hunter-film/61-the-night-of-the-hunter-film.txt',\n",
    "                     'https://d17h27t6h515a5.cloudfront.net/topher/2017/September/59ad9913_62-star-wars-the-force-awakens/62-star-wars-the-force-awakens.txt',\n",
    "                     'https://d17h27t6h515a5.cloudfront.net/topher/2017/September/59ad9913_63-manchester-by-the-sea-film/63-manchester-by-the-sea-film.txt',\n",
    "                     'https://d17h27t6h515a5.cloudfront.net/topher/2017/September/59ad9914_64-dr.-strangelove/64-dr.-strangelove.txt',\n",
    "                     'https://d17h27t6h515a5.cloudfront.net/topher/2017/September/59ad9914_66-vertigo-film/66-vertigo-film.txt',\n",
    "                     'https://d17h27t6h515a5.cloudfront.net/topher/2017/September/59ad9914_67-the-dark-knight-film/67-the-dark-knight-film.txt',\n",
    "                     'https://d17h27t6h515a5.cloudfront.net/topher/2017/September/59ad9915_68-touch-of-evil/68-touch-of-evil.txt',\n",
    "                     'https://d17h27t6h515a5.cloudfront.net/topher/2017/September/59ad9915_69-the-babadook/69-the-babadook.txt',\n",
    "                     'https://d17h27t6h515a5.cloudfront.net/topher/2017/September/59ad9915_72-rosemary27s-baby-film/72-rosemary27s-baby-film.txt',\n",
    "                     'https://d17h27t6h515a5.cloudfront.net/topher/2017/September/59ad9916_73-finding-nemo/73-finding-nemo.txt',\n",
    "                     'https://d17h27t6h515a5.cloudfront.net/topher/2017/September/59ad9916_74-brooklyn-film/74-brooklyn-film.txt',\n",
    "                     'https://d17h27t6h515a5.cloudfront.net/topher/2017/September/59ad9917_75-the-wrestler-2008-film/75-the-wrestler-2008-film.txt',\n",
    "                     'https://d17h27t6h515a5.cloudfront.net/topher/2017/September/59ad9917_77-l.a.-confidential-film/77-l.a.-confidential-film.txt',\n",
    "                     'https://d17h27t6h515a5.cloudfront.net/topher/2017/September/59ad9918_78-gone-with-the-wind-film/78-gone-with-the-wind-film.txt',\n",
    "                     'https://d17h27t6h515a5.cloudfront.net/topher/2017/September/59ad9918_79-the-good-the-bad-and-the-ugly/79-the-good-the-bad-and-the-ugly.txt',\n",
    "                     'https://d17h27t6h515a5.cloudfront.net/topher/2017/September/59ad9918_80-skyfall/80-skyfall.txt',\n",
    "                     'https://d17h27t6h515a5.cloudfront.net/topher/2017/September/59ad9919_82-tokyo-story/82-tokyo-story.txt',\n",
    "                     'https://d17h27t6h515a5.cloudfront.net/topher/2017/September/59ad9919_83-hell-or-high-water-film/83-hell-or-high-water-film.txt',\n",
    "                     'https://d17h27t6h515a5.cloudfront.net/topher/2017/September/59ad9919_84-pinocchio-1940-film/84-pinocchio-1940-film.txt',\n",
    "                     'https://d17h27t6h515a5.cloudfront.net/topher/2017/September/59ad9919_85-the-jungle-book-2016-film/85-the-jungle-book-2016-film.txt',\n",
    "                     'https://d17h27t6h515a5.cloudfront.net/topher/2017/September/59ad991a_86-la-la-land-film/86-la-la-land-film.txt',\n",
    "                     'https://d17h27t6h515a5.cloudfront.net/topher/2017/September/59ad991b_87-star-trek-film/87-star-trek-film.txt',\n",
    "                     'https://d17h27t6h515a5.cloudfront.net/topher/2017/September/59ad991b_89-apocalypse-now/89-apocalypse-now.txt',\n",
    "                     'https://d17h27t6h515a5.cloudfront.net/topher/2017/September/59ad991c_90-on-the-waterfront/90-on-the-waterfront.txt',\n",
    "                     'https://d17h27t6h515a5.cloudfront.net/topher/2017/September/59ad991c_91-the-wages-of-fear/91-the-wages-of-fear.txt',\n",
    "                     'https://d17h27t6h515a5.cloudfront.net/topher/2017/September/59ad991c_92-the-last-picture-show/92-the-last-picture-show.txt',\n",
    "                     'https://d17h27t6h515a5.cloudfront.net/topher/2017/September/59ad991d_93-harry-potter-and-the-deathly-hallows-part-2/93-harry-potter-and-the-deathly-hallows-part-2.txt',\n",
    "                     'https://d17h27t6h515a5.cloudfront.net/topher/2017/September/59ad991d_94-the-grapes-of-wrath-film/94-the-grapes-of-wrath-film.txt',\n",
    "                     'https://d17h27t6h515a5.cloudfront.net/topher/2017/September/59ad991d_96-man-on-wire/96-man-on-wire.txt',\n",
    "                     'https://d17h27t6h515a5.cloudfront.net/topher/2017/September/59ad991e_97-jaws-film/97-jaws-film.txt',\n",
    "                     'https://d17h27t6h515a5.cloudfront.net/topher/2017/September/59ad991e_98-toy-story/98-toy-story.txt',\n",
    "                     'https://d17h27t6h515a5.cloudfront.net/topher/2017/September/59ad991e_99-the-godfather-part-ii/99-the-godfather-part-ii.txt',\n",
    "                     'https://d17h27t6h515a5.cloudfront.net/topher/2017/September/59ad991e_100-battleship-potemkin/100-battleship-potemkin.txt']"
   ]
  },
  {
   "cell_type": "code",
   "execution_count": 16,
   "metadata": {},
   "outputs": [
    {
     "name": "stdout",
     "output_type": "stream",
     "text": [
      "1-the-wizard-of-oz-1939-film.txt\n",
      "2-citizen-kane.txt\n",
      "3-the-third-man.txt\n",
      "4-get-out-film.txt\n",
      "5-mad-max-fury-road.txt\n",
      "6-the-cabinet-of-dr.-caligari.txt\n",
      "7-all-about-eve.txt\n",
      "8-inside-out-2015-film.txt\n",
      "9-the-godfather.txt\n",
      "10-metropolis-1927-film.txt\n",
      "11-e.t.-the-extra-terrestrial.txt\n",
      "12-modern-times-film.txt\n",
      "14-singin-in-the-rain.txt\n",
      "15-boyhood-film.txt\n",
      "16-casablanca-film.txt\n",
      "17-moonlight-2016-film.txt\n",
      "18-psycho-1960-film.txt\n",
      "19-laura-1944-film.txt\n",
      "20-nosferatu.txt\n",
      "21-snow-white-and-the-seven-dwarfs-1937-film.txt\n",
      "22-a-hard-day27s-night-film.txt\n",
      "23-la-grande-illusion.txt\n",
      "25-the-battle-of-algiers.txt\n",
      "26-dunkirk-2017-film.txt\n",
      "27-the-maltese-falcon-1941-film.txt\n",
      "29-12-years-a-slave-film.txt\n",
      "30-gravity-2013-film.txt\n",
      "31-sunset-boulevard-film.txt\n",
      "32-king-kong-1933-film.txt\n",
      "33-spotlight-film.txt\n",
      "34-the-adventures-of-robin-hood.txt\n",
      "35-rashomon.txt\n",
      "36-rear-window.txt\n",
      "37-selma-film.txt\n",
      "38-taxi-driver.txt\n",
      "39-toy-story-3.txt\n",
      "40-argo-2012-film.txt\n",
      "41-toy-story-2.txt\n",
      "42-the-big-sick.txt\n",
      "43-bride-of-frankenstein.txt\n",
      "44-zootopia.txt\n",
      "45-m-1931-film.txt\n",
      "46-wonder-woman-2017-film.txt\n",
      "48-alien-film.txt\n",
      "49-bicycle-thieves.txt\n",
      "50-seven-samurai.txt\n",
      "51-the-treasure-of-the-sierra-madre-film.txt\n",
      "52-up-2009-film.txt\n",
      "53-12-angry-men-1957-film.txt\n",
      "54-the-400-blows.txt\n",
      "55-logan-film.txt\n",
      "57-army-of-shadows.txt\n",
      "58-arrival-film.txt\n",
      "59-baby-driver.txt\n",
      "60-a-streetcar-named-desire-1951-film.txt\n",
      "61-the-night-of-the-hunter-film.txt\n",
      "62-star-wars-the-force-awakens.txt\n",
      "63-manchester-by-the-sea-film.txt\n",
      "64-dr.-strangelove.txt\n",
      "66-vertigo-film.txt\n",
      "67-the-dark-knight-film.txt\n",
      "68-touch-of-evil.txt\n",
      "69-the-babadook.txt\n",
      "72-rosemary27s-baby-film.txt\n",
      "73-finding-nemo.txt\n",
      "74-brooklyn-film.txt\n",
      "75-the-wrestler-2008-film.txt\n",
      "77-l.a.-confidential-film.txt\n",
      "78-gone-with-the-wind-film.txt\n",
      "79-the-good-the-bad-and-the-ugly.txt\n",
      "80-skyfall.txt\n",
      "82-tokyo-story.txt\n",
      "83-hell-or-high-water-film.txt\n",
      "84-pinocchio-1940-film.txt\n",
      "85-the-jungle-book-2016-film.txt\n",
      "86-la-la-land-film.txt\n",
      "87-star-trek-film.txt\n",
      "89-apocalypse-now.txt\n",
      "90-on-the-waterfront.txt\n",
      "91-the-wages-of-fear.txt\n",
      "92-the-last-picture-show.txt\n",
      "93-harry-potter-and-the-deathly-hallows-part-2.txt\n",
      "94-the-grapes-of-wrath-film.txt\n",
      "96-man-on-wire.txt\n",
      "97-jaws-film.txt\n",
      "98-toy-story.txt\n",
      "99-the-godfather-part-ii.txt\n",
      "100-battleship-potemkin.txt\n"
     ]
    }
   ],
   "source": [
    "files = []\n",
    "for url in ebert_review_urls:\n",
    "    file = url.split('/')[-1]\n",
    "    files.append(file)\n",
    "    print(file)"
   ]
  },
  {
   "cell_type": "markdown",
   "metadata": {},
   "source": [
    "**in fact I want not only their names,** <br>\n",
    "**I need the real response.content from requests.get(url) ;)!**\n",
    "<br>**and I will start response.content in the new folder, so:**"
   ]
  },
  {
   "cell_type": "code",
   "execution_count": 22,
   "metadata": {},
   "outputs": [],
   "source": [
    "myFolder = 'Reviews'\n",
    "if not os.path.exists(myFolder):\n",
    "    os.makedirs(myFolder)\n",
    "\n",
    "for url in ebert_review_urls:\n",
    "    response = requests.get(url)\n",
    "    myFile = url.split('/')[-1]\n",
    "\n",
    "    with open(os.path.join(myFolder,myFile),mode='wb') as file:\n",
    "        file.write(response.content)"
   ]
  },
  {
   "cell_type": "markdown",
   "metadata": {},
   "source": [
    "Check the folder content:"
   ]
  },
  {
   "cell_type": "code",
   "execution_count": 24,
   "metadata": {},
   "outputs": [
    {
     "data": {
      "text/plain": [
       "['26-dunkirk-2017-film.txt',\n",
       " '57-army-of-shadows.txt',\n",
       " '48-alien-film.txt',\n",
       " '43-bride-of-frankenstein.txt',\n",
       " '54-the-400-blows.txt',\n",
       " '63-manchester-by-the-sea-film.txt',\n",
       " '5-mad-max-fury-road.txt',\n",
       " '46-wonder-woman-2017-film.txt',\n",
       " '49-bicycle-thieves.txt',\n",
       " '19-laura-1944-film.txt',\n",
       " '98-toy-story.txt',\n",
       " '90-on-the-waterfront.txt',\n",
       " '39-toy-story-3.txt',\n",
       " '82-tokyo-story.txt',\n",
       " '23-la-grande-illusion.txt',\n",
       " '92-the-last-picture-show.txt',\n",
       " '36-rear-window.txt',\n",
       " '78-gone-with-the-wind-film.txt',\n",
       " '60-a-streetcar-named-desire-1951-film.txt',\n",
       " '84-pinocchio-1940-film.txt',\n",
       " '32-king-kong-1933-film.txt',\n",
       " '58-arrival-film.txt',\n",
       " '64-dr.-strangelove.txt',\n",
       " '40-argo-2012-film.txt',\n",
       " '22-a-hard-day27s-night-film.txt',\n",
       " '37-selma-film.txt',\n",
       " '83-hell-or-high-water-film.txt',\n",
       " '30-gravity-2013-film.txt',\n",
       " '55-logan-film.txt',\n",
       " '10-metropolis-1927-film.txt',\n",
       " '42-the-big-sick.txt',\n",
       " '72-rosemary27s-baby-film.txt',\n",
       " '53-12-angry-men-1957-film.txt',\n",
       " '4-get-out-film.txt',\n",
       " '11-e.t.-the-extra-terrestrial.txt',\n",
       " '44-zootopia.txt',\n",
       " '27-the-maltese-falcon-1941-film.txt',\n",
       " '52-up-2009-film.txt',\n",
       " '1-the-wizard-of-oz-1939-film.txt',\n",
       " '89-apocalypse-now.txt',\n",
       " '9-the-godfather.txt',\n",
       " '75-the-wrestler-2008-film.txt',\n",
       " '100-battleship-potemkin.txt',\n",
       " '94-the-grapes-of-wrath-film.txt',\n",
       " '12-modern-times-film.txt',\n",
       " '77-l.a.-confidential-film.txt',\n",
       " '17-moonlight-2016-film.txt',\n",
       " '35-rashomon.txt',\n",
       " '80-skyfall.txt',\n",
       " '16-casablanca-film.txt',\n",
       " '3-the-third-man.txt',\n",
       " '34-the-adventures-of-robin-hood.txt',\n",
       " '45-m-1931-film.txt',\n",
       " '69-the-babadook.txt',\n",
       " '21-snow-white-and-the-seven-dwarfs-1937-film.txt',\n",
       " '62-star-wars-the-force-awakens.txt',\n",
       " '87-star-trek-film.txt',\n",
       " '97-jaws-film.txt',\n",
       " '29-12-years-a-slave-film.txt',\n",
       " '85-the-jungle-book-2016-film.txt',\n",
       " '73-finding-nemo.txt',\n",
       " '8-inside-out-2015-film.txt',\n",
       " '93-harry-potter-and-the-deathly-hallows-part-2.txt',\n",
       " '51-the-treasure-of-the-sierra-madre-film.txt',\n",
       " '31-sunset-boulevard-film.txt',\n",
       " '99-the-godfather-part-ii.txt',\n",
       " '7-all-about-eve.txt',\n",
       " '61-the-night-of-the-hunter-film.txt',\n",
       " '66-vertigo-film.txt',\n",
       " '38-taxi-driver.txt',\n",
       " '91-the-wages-of-fear.txt',\n",
       " '33-spotlight-film.txt',\n",
       " '25-the-battle-of-algiers.txt',\n",
       " '86-la-la-land-film.txt',\n",
       " '2-citizen-kane.txt',\n",
       " '50-seven-samurai.txt',\n",
       " '74-brooklyn-film.txt',\n",
       " '18-psycho-1960-film.txt',\n",
       " '15-boyhood-film.txt',\n",
       " '79-the-good-the-bad-and-the-ugly.txt',\n",
       " '67-the-dark-knight-film.txt',\n",
       " '68-touch-of-evil.txt',\n",
       " '59-baby-driver.txt',\n",
       " '96-man-on-wire.txt',\n",
       " '41-toy-story-2.txt',\n",
       " '20-nosferatu.txt',\n",
       " '14-singin-in-the-rain.txt',\n",
       " '6-the-cabinet-of-dr.-caligari.txt']"
      ]
     },
     "execution_count": 24,
     "metadata": {},
     "output_type": "execute_result"
    }
   ],
   "source": [
    "os.listdir(myFolder)"
   ]
  },
  {
   "cell_type": "code",
   "execution_count": 25,
   "metadata": {},
   "outputs": [
    {
     "data": {
      "text/plain": [
       "88"
      ]
     },
     "execution_count": 25,
     "metadata": {},
     "output_type": "execute_result"
    }
   ],
   "source": [
    "len(os.listdir(myFolder))"
   ]
  }
 ],
 "metadata": {
  "kernelspec": {
   "display_name": "Python 3",
   "language": "python",
   "name": "python3"
  },
  "language_info": {
   "codemirror_mode": {
    "name": "ipython",
    "version": 3
   },
   "file_extension": ".py",
   "mimetype": "text/x-python",
   "name": "python",
   "nbconvert_exporter": "python",
   "pygments_lexer": "ipython3",
   "version": "3.8.3"
  }
 },
 "nbformat": 4,
 "nbformat_minor": 4
}
