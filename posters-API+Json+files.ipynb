{
 "cells": [
  {
   "cell_type": "markdown",
   "metadata": {},
   "source": [
    "# APIs + JSON + Files"
   ]
  },
  {
   "cell_type": "markdown",
   "metadata": {},
   "source": [
    "I am going to query the MediaWiki API using wptools \n",
    "<br> to get a movie poster URL via each page object's image attribute.\n",
    "<br>and using that URL, I'll programmatically download that image into a folder called bestofrt_posters."
   ]
  },
  {
   "cell_type": "code",
   "execution_count": 1,
   "metadata": {},
   "outputs": [],
   "source": [
    "import pandas as pd\n",
    "import os\n",
    "import requests\n",
    "import wptools\n",
    "from PIL import Image\n",
    "from io import BytesIO"
   ]
  },
  {
   "cell_type": "markdown",
   "metadata": {},
   "source": [
    "### Below is list of all our movies titles\n",
    "\n",
    "Contains title_list, which is a list of all of the Wikipedia page titles for each movie in the Rotten Tomatoes Top 100 Movies of All Time list. This list is in the same order as the Top 100."
   ]
  },
  {
   "cell_type": "code",
   "execution_count": 2,
   "metadata": {},
   "outputs": [],
   "source": [
    "title_list = [\n",
    " 'The_Wizard_of_Oz_(1939_film)',\n",
    " 'Citizen_Kane',\n",
    " 'The_Third_Man',\n",
    " 'Get_Out_(film)',\n",
    " 'Mad_Max:_Fury_Road',\n",
    " 'The_Cabinet_of_Dr._Caligari',\n",
    " 'All_About_Eve',\n",
    " 'Inside_Out_(2015_film)',\n",
    " 'The_Godfather',\n",
    " 'Metropolis_(1927_film)',\n",
    " 'E.T._the_Extra-Terrestrial',\n",
    " 'Modern_Times_(film)',\n",
    " 'It_Happened_One_Night',\n",
    " \"Singin'_in_the_Rain\",\n",
    " 'Boyhood_(film)',\n",
    " 'Casablanca_(film)',\n",
    " 'Moonlight_(2016_film)',\n",
    " 'Psycho_(1960_film)',\n",
    " 'Laura_(1944_film)',\n",
    " 'Nosferatu',\n",
    " 'Snow_White_and_the_Seven_Dwarfs_(1937_film)',\n",
    " \"A_Hard_Day%27s_Night_(film)\",\n",
    " 'La_Grande_Illusion',\n",
    " 'North_by_Northwest',\n",
    " 'The_Battle_of_Algiers',\n",
    " 'Dunkirk_(2017_film)',\n",
    " 'The_Maltese_Falcon_(1941_film)',\n",
    " 'Repulsion_(film)',\n",
    " '12_Years_a_Slave_(film)',\n",
    " 'Gravity_(2013_film)',\n",
    " 'Sunset_Boulevard_(film)',\n",
    " 'King_Kong_(1933_film)',\n",
    " 'Spotlight_(film)',\n",
    " 'The_Adventures_of_Robin_Hood',\n",
    " 'Rashomon',\n",
    " 'Rear_Window',\n",
    " 'Selma_(film)',\n",
    " 'Taxi_Driver',\n",
    " 'Toy_Story_3',\n",
    " 'Argo_(2012_film)',\n",
    " 'Toy_Story_2',\n",
    " 'The_Big_Sick',\n",
    " 'Bride_of_Frankenstein',\n",
    " 'Zootopia',\n",
    " 'M_(1931_film)',\n",
    " 'Wonder_Woman_(2017_film)',\n",
    " 'The_Philadelphia_Story_(film)',\n",
    " 'Alien_(film)',\n",
    " 'Bicycle_Thieves',\n",
    " 'Seven_Samurai',\n",
    " 'The_Treasure_of_the_Sierra_Madre_(film)',\n",
    " 'Up_(2009_film)',\n",
    " '12_Angry_Men_(1957_film)',\n",
    " 'The_400_Blows',\n",
    " 'Logan_(film)',\n",
    " 'All_Quiet_on_the_Western_Front_(1930_film)',\n",
    " 'Army_of_Shadows',\n",
    " 'Arrival_(film)',\n",
    " 'Baby_Driver',\n",
    " 'A_Streetcar_Named_Desire_(1951_film)',\n",
    " 'The_Night_of_the_Hunter_(film)',\n",
    " 'Star_Wars:_The_Force_Awakens',\n",
    " 'Manchester_by_the_Sea_(film)',\n",
    " 'Dr._Strangelove',\n",
    " 'Frankenstein_(1931_film)',\n",
    " 'Vertigo_(film)',\n",
    " 'The_Dark_Knight_(film)',\n",
    " 'Touch_of_Evil',\n",
    " 'The_Babadook',\n",
    " 'The_Conformist_(film)',\n",
    " 'Rebecca_(1940_film)',\n",
    " \"Rosemary%27s_Baby_(film)\",\n",
    " 'Finding_Nemo',\n",
    " 'Brooklyn_(film)',\n",
    " 'The_Wrestler_(2008_film)',\n",
    " 'The_39_Steps_(1935_film)',\n",
    " 'L.A._Confidential_(film)',\n",
    " 'Gone_with_the_Wind_(film)',\n",
    " 'The_Good,_the_Bad_and_the_Ugly',\n",
    " 'Skyfall',\n",
    " 'Rome,_Open_City',\n",
    " 'Tokyo_Story',\n",
    " 'Hell_or_High_Water_(film)',\n",
    " 'Pinocchio_(1940_film)',\n",
    " 'The_Jungle_Book_(2016_film)',\n",
    " 'La_La_Land_(film)',\n",
    " 'Star_Trek_(film)',\n",
    " 'High_Noon',\n",
    " 'Apocalypse_Now',\n",
    " 'On_the_Waterfront',\n",
    " 'The_Wages_of_Fear',\n",
    " 'The_Last_Picture_Show',\n",
    " 'Harry_Potter_and_the_Deathly_Hallows_–_Part_2',\n",
    " 'The_Grapes_of_Wrath_(film)',\n",
    " 'Roman_Holiday',\n",
    " 'Man_on_Wire',\n",
    " 'Jaws_(film)',\n",
    " 'Toy_Story',\n",
    " 'The_Godfather_Part_II',\n",
    " 'Battleship_Potemkin'\n",
    "]"
   ]
  },
  {
   "cell_type": "markdown",
   "metadata": {},
   "source": [
    "### Make directory if it doesn't already exist\n",
    "Creates an empty folder, bestofrt_posters, to store the downloaded movie poster image files.\n"
   ]
  },
  {
   "cell_type": "code",
   "execution_count": 3,
   "metadata": {},
   "outputs": [],
   "source": [
    "my_folder = 'bestofrt_posters'\n",
    "if not os.path.exists(my_folder):\n",
    "    os.makedirs(my_folder)"
   ]
  },
  {
   "cell_type": "markdown",
   "metadata": {},
   "source": [
    "Creates an empty list, df_list, to which dictionaries will be appended. This list of dictionaries will eventually be converted to a pandas DataFrame (this is the most efficient way of building a DataFrame row by row)."
   ]
  },
  {
   "cell_type": "code",
   "execution_count": 4,
   "metadata": {},
   "outputs": [],
   "source": [
    "# List of dictionaries to build and convert to a DataFrame later\n",
    "df_list = []"
   ]
  },
  {
   "cell_type": "markdown",
   "metadata": {},
   "source": [
    "Creates an empty dictionary, image_errors, to fill to keep track of movie poster image URLs that don't work."
   ]
  },
  {
   "cell_type": "code",
   "execution_count": 5,
   "metadata": {},
   "outputs": [],
   "source": [
    "image_errors = {}"
   ]
  },
  {
   "cell_type": "markdown",
   "metadata": {},
   "source": [
    "### Below will take around 7 minutes to run \n",
    "\n",
    "**Loops through the Wikipedia page titles in title_list and:**\n",
    "1. Stores the ranking of that movie in the Top 100 list based on its position in title_list. Ranking is needed so we can join this DataFrame with the master DataFrame later. We can't join on title because the titles of the Rotten Tomatoes pages and the Wikipedia pages differ.\n",
    "2. Uses try and except blocks to attempt to query MediaWiki for a movie poster image URL and to attempt to download that image. If the attempt fails and an error is encountered, the offending movie is documented in image_errors.\n",
    "3. Appends a `dictionary` with `ranking`, `title`, and `poster_url` as the keys and the extracted values for each as the values to `df_list`."
   ]
  },
  {
   "cell_type": "code",
   "execution_count": 6,
   "metadata": {},
   "outputs": [
    {
     "name": "stdout",
     "output_type": "stream",
     "text": [
      "1\n",
      "2\n",
      "3\n",
      "4\n",
      "5\n",
      "6\n",
      "7\n",
      "8\n",
      "9\n",
      "10\n",
      "11\n",
      "12\n",
      "13\n",
      "14\n",
      "15\n",
      "16\n",
      "17\n",
      "18\n",
      "19\n",
      "20\n",
      "21\n",
      "22\n"
     ]
    },
    {
     "name": "stderr",
     "output_type": "stream",
     "text": [
      "API error: {'code': 'invalidtitle', 'info': 'Bad title \"A_Hard_Day%27s_Night_(film)\".', 'docref': 'See https://en.wikipedia.org/w/api.php for API usage. Subscribe to the mediawiki-api-announce mailing list at &lt;https://lists.wikimedia.org/mailman/listinfo/mediawiki-api-announce&gt; for notice of API deprecations and breaking changes.'}\n"
     ]
    },
    {
     "name": "stdout",
     "output_type": "stream",
     "text": [
      "22_A_Hard_Day%27s_Night_(film): https://en.wikipedia.org/w/api.php?action=parse&formatversion=2&contentmodel=text&disableeditsection=&disablelimitreport=&disabletoc=&prop=text|iwlinks|parsetree|wikitext|displaytitle|properties&redirects&page=A_Hard_Day%2527s_Night_%28film%29\n",
      "23\n",
      "24\n",
      "25\n",
      "26\n",
      "27\n",
      "28\n",
      "29\n",
      "30\n",
      "31\n",
      "32\n",
      "33\n",
      "34\n",
      "35\n",
      "36\n",
      "37\n",
      "38\n",
      "39\n",
      "40\n",
      "41\n",
      "42\n",
      "43\n",
      "44\n",
      "45\n",
      "46\n",
      "47\n",
      "48\n",
      "49\n",
      "50\n",
      "51\n",
      "52\n",
      "53\n",
      "54\n",
      "55\n",
      "56\n",
      "57\n",
      "58\n",
      "59\n",
      "60\n",
      "61\n",
      "62\n",
      "63\n",
      "64\n",
      "64_Dr._Strangelove: cannot identify image file <_io.BytesIO object at 0x7fd8aa730180>\n",
      "65\n",
      "66\n",
      "67\n",
      "68\n",
      "69\n",
      "70\n",
      "71\n",
      "72\n"
     ]
    },
    {
     "name": "stderr",
     "output_type": "stream",
     "text": [
      "API error: {'code': 'invalidtitle', 'info': 'Bad title \"Rosemary%27s_Baby_(film)\".', 'docref': 'See https://en.wikipedia.org/w/api.php for API usage. Subscribe to the mediawiki-api-announce mailing list at &lt;https://lists.wikimedia.org/mailman/listinfo/mediawiki-api-announce&gt; for notice of API deprecations and breaking changes.'}\n"
     ]
    },
    {
     "name": "stdout",
     "output_type": "stream",
     "text": [
      "72_Rosemary%27s_Baby_(film): https://en.wikipedia.org/w/api.php?action=parse&formatversion=2&contentmodel=text&disableeditsection=&disablelimitreport=&disabletoc=&prop=text|iwlinks|parsetree|wikitext|displaytitle|properties&redirects&page=Rosemary%2527s_Baby_%28film%29\n",
      "73\n",
      "74\n",
      "75\n",
      "76\n",
      "77\n",
      "78\n",
      "79\n",
      "80\n",
      "81\n",
      "82\n",
      "83\n",
      "84\n",
      "85\n",
      "86\n",
      "87\n",
      "88\n",
      "89\n",
      "90\n",
      "91\n",
      "92\n",
      "93\n",
      "94\n",
      "95\n",
      "96\n",
      "97\n",
      "98\n",
      "99\n",
      "100\n"
     ]
    }
   ],
   "source": [
    "\n",
    "for title in title_list:\n",
    "    try:\n",
    "        ranking = title_list.index(title) + 1\n",
    "        print(ranking)\n",
    "        page = wptools.page(title, silent=True)\n",
    "        #API\n",
    "        images = page.get().data['image']\n",
    "        \n",
    "        #JSON\n",
    "        first_image_url = images[0]['url']\n",
    "        r = requests.get(first_image_url)\n",
    "\n",
    "        #download file Normally ; sometimes will cauz errors \n",
    "#         with open(os.path.join(my_folder+ '/' +title),'wb') as file:\n",
    "#             file.write(r.content)\n",
    "        \n",
    "        # so, Download movie poster image with this way \n",
    "        i = Image.open(BytesIO(r.content))\n",
    "        image_file_format = first_image_url.split('.')[-1]\n",
    "        i.save(my_folder + \"/\" + str(ranking) + \"_\" + title + '.' + image_file_format)\n",
    "        \n",
    "        \n",
    "        # Append to list of dictionaries\n",
    "        df_list.append({'ranking': int(ranking),\n",
    "                        'title': title,\n",
    "                        'poster_url': first_image_url})\n",
    "    \n",
    "    # Not best practice to catch all exceptions but fine for this short script\n",
    "    except Exception as e:\n",
    "        print(str(ranking) + \"_\" + title + \": \" + str(e))\n",
    "        image_errors[str(ranking) + \"_\" + title] = images"
   ]
  },
  {
   "cell_type": "code",
   "execution_count": 7,
   "metadata": {},
   "outputs": [
    {
     "name": "stdout",
     "output_type": "stream",
     "text": [
      "22_A_Hard_Day%27s_Night_(film)\n",
      "64_Dr._Strangelove\n",
      "72_Rosemary%27s_Baby_(film)\n"
     ]
    }
   ],
   "source": [
    "for key in image_errors.keys():\n",
    "    print(key)"
   ]
  },
  {
   "cell_type": "markdown",
   "metadata": {},
   "source": [
    "#### in fact, due to multiple runs this list is not accurae\n",
    "22, 64 and 72 only, that are not downloaded "
   ]
  },
  {
   "cell_type": "markdown",
   "metadata": {},
   "source": [
    "Inspects the images that caused errors and downloads the correct image individually (either via another URL in the image attribute's list or a URL from Google Images)\n"
   ]
  },
  {
   "cell_type": "code",
   "execution_count": null,
   "metadata": {},
   "outputs": [],
   "source": [
    "# Inspect unidentifiable images and download them individually\n",
    "for rank_title, images in image_errors.items():\n",
    "    if rank_title == '22_A_Hard_Day%27s_Night_(film)':\n",
    "        url = 'https://upload.wikimedia.org/wikipedia/en/4/47/A_Hard_Days_night_movieposter.jpg'\n",
    "    if rank_title == '72_Rosemary%27s_Baby_(film)':\n",
    "        url = 'https://upload.wikimedia.org/wikipedia/en/e/ef/Rosemarys_baby_poster.jpg'\n",
    "    if rank_title == '64_Dr._Strangelove'\n",
    "        url = 'https://upload.wikimedia.org/wikipedia/en/thumb/e/e6/Dr._Strangelove_poster.jpg/220px-Dr._Strangelove_poster.jpg'\n",
    "        \n",
    "    title = rank_title[3:]\n",
    "    df_list.append({'ranking': int(title_list.index(title) + 1),\n",
    "                    'title': title,\n",
    "                    'poster_url': url})\n",
    "    r = requests.get(url)\n",
    "    # Download movie poster image\n",
    "    i = Image.open(BytesIO(r.content))\n",
    "    image_file_format = url.split('.')[-1]\n",
    "    i.save(my_folder + \"/\" + rank_title + '.' + image_file_format)"
   ]
  },
  {
   "cell_type": "markdown",
   "metadata": {},
   "source": [
    "the below is only to avoid multi run; ignor it "
   ]
  },
  {
   "cell_type": "code",
   "execution_count": 19,
   "metadata": {},
   "outputs": [],
   "source": [
    "rank_title == '64_Dr._Strangelove'\n",
    "url = 'https://upload.wikimedia.org/wikipedia/en/thumb/e/e6/Dr._Strangelove_poster.jpg/220px-Dr._Strangelove_poster.jpg'\n",
    "title = rank_title[3:]\n",
    "df_list.append({'ranking': int(title_list.index(title) + 1),\n",
    "                    'title': title,\n",
    "                    'poster_url': url})\n",
    "r = requests.get(url)\n",
    "    # Download movie poster image\n",
    "i = Image.open(BytesIO(r.content))\n",
    "image_file_format = url.split('.')[-1]\n",
    "i.save(my_folder + \"/\" + rank_title + '.' + image_file_format)"
   ]
  },
  {
   "cell_type": "markdown",
   "metadata": {},
   "source": [
    "Creates a DataFrame called df by converting df_list using the pd.DataFrame constructor."
   ]
  },
  {
   "cell_type": "code",
   "execution_count": 20,
   "metadata": {},
   "outputs": [
    {
     "data": {
      "text/html": [
       "<div>\n",
       "<style scoped>\n",
       "    .dataframe tbody tr th:only-of-type {\n",
       "        vertical-align: middle;\n",
       "    }\n",
       "\n",
       "    .dataframe tbody tr th {\n",
       "        vertical-align: top;\n",
       "    }\n",
       "\n",
       "    .dataframe thead th {\n",
       "        text-align: right;\n",
       "    }\n",
       "</style>\n",
       "<table border=\"1\" class=\"dataframe\">\n",
       "  <thead>\n",
       "    <tr style=\"text-align: right;\">\n",
       "      <th></th>\n",
       "      <th>ranking</th>\n",
       "      <th>title</th>\n",
       "      <th>poster_url</th>\n",
       "    </tr>\n",
       "  </thead>\n",
       "  <tbody>\n",
       "    <tr>\n",
       "      <th>0</th>\n",
       "      <td>1</td>\n",
       "      <td>The_Wizard_of_Oz_(1939_film)</td>\n",
       "      <td>https://upload.wikimedia.org/wikipedia/commons...</td>\n",
       "    </tr>\n",
       "    <tr>\n",
       "      <th>1</th>\n",
       "      <td>2</td>\n",
       "      <td>Citizen_Kane</td>\n",
       "      <td>https://upload.wikimedia.org/wikipedia/commons...</td>\n",
       "    </tr>\n",
       "    <tr>\n",
       "      <th>2</th>\n",
       "      <td>3</td>\n",
       "      <td>The_Third_Man</td>\n",
       "      <td>https://upload.wikimedia.org/wikipedia/commons...</td>\n",
       "    </tr>\n",
       "    <tr>\n",
       "      <th>3</th>\n",
       "      <td>4</td>\n",
       "      <td>Get_Out_(film)</td>\n",
       "      <td>https://upload.wikimedia.org/wikipedia/en/a/a3...</td>\n",
       "    </tr>\n",
       "    <tr>\n",
       "      <th>4</th>\n",
       "      <td>5</td>\n",
       "      <td>Mad_Max:_Fury_Road</td>\n",
       "      <td>https://upload.wikimedia.org/wikipedia/en/6/6e...</td>\n",
       "    </tr>\n",
       "    <tr>\n",
       "      <th>...</th>\n",
       "      <td>...</td>\n",
       "      <td>...</td>\n",
       "      <td>...</td>\n",
       "    </tr>\n",
       "    <tr>\n",
       "      <th>104</th>\n",
       "      <td>96</td>\n",
       "      <td>Man_on_Wire</td>\n",
       "      <td>https://upload.wikimedia.org/wikipedia/en/5/54...</td>\n",
       "    </tr>\n",
       "    <tr>\n",
       "      <th>105</th>\n",
       "      <td>97</td>\n",
       "      <td>Jaws_(film)</td>\n",
       "      <td>https://upload.wikimedia.org/wikipedia/en/e/eb...</td>\n",
       "    </tr>\n",
       "    <tr>\n",
       "      <th>106</th>\n",
       "      <td>98</td>\n",
       "      <td>Toy_Story</td>\n",
       "      <td>https://upload.wikimedia.org/wikipedia/en/1/13...</td>\n",
       "    </tr>\n",
       "    <tr>\n",
       "      <th>107</th>\n",
       "      <td>99</td>\n",
       "      <td>The_Godfather_Part_II</td>\n",
       "      <td>https://upload.wikimedia.org/wikipedia/en/0/03...</td>\n",
       "    </tr>\n",
       "    <tr>\n",
       "      <th>108</th>\n",
       "      <td>100</td>\n",
       "      <td>Battleship_Potemkin</td>\n",
       "      <td>https://upload.wikimedia.org/wikipedia/commons...</td>\n",
       "    </tr>\n",
       "  </tbody>\n",
       "</table>\n",
       "<p>109 rows × 3 columns</p>\n",
       "</div>"
      ],
      "text/plain": [
       "     ranking                         title  \\\n",
       "0          1  The_Wizard_of_Oz_(1939_film)   \n",
       "1          2                  Citizen_Kane   \n",
       "2          3                 The_Third_Man   \n",
       "3          4                Get_Out_(film)   \n",
       "4          5            Mad_Max:_Fury_Road   \n",
       "..       ...                           ...   \n",
       "104       96                   Man_on_Wire   \n",
       "105       97                   Jaws_(film)   \n",
       "106       98                     Toy_Story   \n",
       "107       99         The_Godfather_Part_II   \n",
       "108      100           Battleship_Potemkin   \n",
       "\n",
       "                                            poster_url  \n",
       "0    https://upload.wikimedia.org/wikipedia/commons...  \n",
       "1    https://upload.wikimedia.org/wikipedia/commons...  \n",
       "2    https://upload.wikimedia.org/wikipedia/commons...  \n",
       "3    https://upload.wikimedia.org/wikipedia/en/a/a3...  \n",
       "4    https://upload.wikimedia.org/wikipedia/en/6/6e...  \n",
       "..                                                 ...  \n",
       "104  https://upload.wikimedia.org/wikipedia/en/5/54...  \n",
       "105  https://upload.wikimedia.org/wikipedia/en/e/eb...  \n",
       "106  https://upload.wikimedia.org/wikipedia/en/1/13...  \n",
       "107  https://upload.wikimedia.org/wikipedia/en/0/03...  \n",
       "108  https://upload.wikimedia.org/wikipedia/commons...  \n",
       "\n",
       "[109 rows x 3 columns]"
      ]
     },
     "execution_count": 20,
     "metadata": {},
     "output_type": "execute_result"
    }
   ],
   "source": [
    "# Create DataFrame from list of dictionaries\n",
    "df = pd.DataFrame(df_list, columns = ['ranking', 'title', 'poster_url'])\n",
    "df = df.sort_values('ranking').reset_index(drop=True)\n",
    "df"
   ]
  },
  {
   "cell_type": "markdown",
   "metadata": {},
   "source": [
    "Amazing;))"
   ]
  }
 ],
 "metadata": {
  "kernelspec": {
   "display_name": "Python 3",
   "language": "python",
   "name": "python3"
  },
  "language_info": {
   "codemirror_mode": {
    "name": "ipython",
    "version": 3
   },
   "file_extension": ".py",
   "mimetype": "text/x-python",
   "name": "python",
   "nbconvert_exporter": "python",
   "pygments_lexer": "ipython3",
   "version": "3.8.3"
  }
 },
 "nbformat": 4,
 "nbformat_minor": 4
}
