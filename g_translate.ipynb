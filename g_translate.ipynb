{
 "cells": [
  {
   "cell_type": "code",
   "execution_count": 1,
   "metadata": {},
   "outputs": [],
   "source": [
    "import requests\n",
    "import os"
   ]
  },
  {
   "cell_type": "code",
   "execution_count": 8,
   "metadata": {},
   "outputs": [],
   "source": [
    "my_folder = 'ebert_reviews_solution'\n",
    "if not os.path.exists(my_folder):\n",
    "    os.makedirs(my_folder)"
   ]
  },
  {
   "cell_type": "code",
   "execution_count": 9,
   "metadata": {},
   "outputs": [
    {
     "data": {
      "text/plain": [
       "('hello_world', 'translate', 'en', 'ar')"
      ]
     },
     "execution_count": 9,
     "metadata": {},
     "output_type": "execute_result"
    }
   ],
   "source": [
    "# one word\n",
    "url = 'https://translate.google.com/#view=home&op=translate&sl=en&tl=ar&text=hello_world'\n",
    "response = requests.get(url) \n",
    "# extract the file name from the last element of the url\n",
    "text = url.split('=')[-1]\n",
    "operation = url.split('=')[2].split('&')[0]\n",
    "source_language = url.split('=')[3].split('&')[0]\n",
    "to_language = url.split('=')[4].split('&')[0]\n",
    "text, operation , source_language , to_language"
   ]
  },
  {
   "cell_type": "code",
   "execution_count": 36,
   "metadata": {},
   "outputs": [
    {
     "data": {
      "text/plain": [
       "('hello sumaya i miss you', 'translate', 'en', 'ar')"
      ]
     },
     "execution_count": 36,
     "metadata": {},
     "output_type": "execute_result"
    }
   ],
   "source": [
    "# multiple words with only spaces\n",
    "\n",
    "url = 'https://translate.google.com/#view=home&op=translate&sl=en&tl=ar&text=hello%20sumaya%20i%20miss%20you'\n",
    "response = requests.get(url) \n",
    "text = url.split('=')[-1].replace('%20',' ')\n",
    "\n",
    "operation = url.split('=')[2].split('&')[0]\n",
    "source_language = url.split('=')[3].split('&')[0]\n",
    "to_language = url.split('=')[4].split('&')[0]\n",
    "text, operation , source_language , to_language\n"
   ]
  },
  {
   "cell_type": "code",
   "execution_count": 40,
   "metadata": {},
   "outputs": [
    {
     "data": {
      "text/plain": [
       "('hello sumaya %22%22%26%5E%25%24%23%40!*%26', 'translate', 'en', 'ar')"
      ]
     },
     "execution_count": 40,
     "metadata": {},
     "output_type": "execute_result"
    }
   ],
   "source": [
    "# text with special chars;)!\n",
    "url = 'https://translate.google.com/#view=home&op=translate&sl=en&tl=ar&text=hello%20sumaya%20%22%22%26%5E%25%24%23%40!*%26'\n",
    "response = requests.get(url) \n",
    "text = url.split('=')[-1].replace('%20',' ')\n",
    "\n",
    "operation = url.split('=')[2].split('&')[0]\n",
    "source_language = url.split('=')[3].split('&')[0]\n",
    "to_language = url.split('=')[4].split('&')[0]\n",
    "text, operation , source_language , to_language"
   ]
  },
  {
   "cell_type": "markdown",
   "metadata": {},
   "source": [
    "**I have to include list of all possibile escape chars to replace them with actual text :\\**"
   ]
  },
  {
   "cell_type": "code",
   "execution_count": null,
   "metadata": {},
   "outputs": [],
   "source": []
  }
 ],
 "metadata": {
  "kernelspec": {
   "display_name": "Python 3",
   "language": "python",
   "name": "python3"
  },
  "language_info": {
   "codemirror_mode": {
    "name": "ipython",
    "version": 3
   },
   "file_extension": ".py",
   "mimetype": "text/x-python",
   "name": "python",
   "nbconvert_exporter": "python",
   "pygments_lexer": "ipython3",
   "version": "3.8.3"
  }
 },
 "nbformat": 4,
 "nbformat_minor": 4
}
